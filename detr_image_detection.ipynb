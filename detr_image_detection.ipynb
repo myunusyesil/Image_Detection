{
 "cells": [
  {
   "cell_type": "code",
   "execution_count": 1,
   "metadata": {},
   "outputs": [
    {
     "name": "stderr",
     "output_type": "stream",
     "text": [
      "c:\\Users\\yunus.yesil\\Desktop\\python-projects\\Image_Detection\\.venv\\Lib\\site-packages\\tqdm\\auto.py:21: TqdmWarning: IProgress not found. Please update jupyter and ipywidgets. See https://ipywidgets.readthedocs.io/en/stable/user_install.html\n",
      "  from .autonotebook import tqdm as notebook_tqdm\n"
     ]
    }
   ],
   "source": [
    "from transformers import DetrImageProcessor, DetrForObjectDetection\n",
    "import torch\n",
    "from PIL import Image, ImageDraw, ImageFont\n",
    "import requests\n",
    "import random\n"
   ]
  },
  {
   "cell_type": "code",
   "execution_count": 11,
   "metadata": {},
   "outputs": [
    {
     "name": "stdout",
     "output_type": "stream",
     "text": [
      "Detected cup with confidence 0.983 at location [486.47, 1919.56, 755.35, 2297.6]\n",
      "Detected cup with confidence 0.994 at location [3075.34, 2000.01, 3352.1, 2314.22]\n",
      "Detected keyboard with confidence 0.999 at location [1413.1, 2112.98, 2396.67, 2340.41]\n",
      "Detected mouse with confidence 0.999 at location [2575.44, 2143.78, 2832.48, 2331.17]\n",
      "Detected potted plant with confidence 0.955 at location [2717.97, 1308.36, 3188.37, 1840.3]\n",
      "Detected cup with confidence 0.963 at location [355.45, 1749.58, 724.94, 2288.0]\n",
      "Detected tv with confidence 0.998 at location [1214.46, 1169.34, 2772.43, 1820.14]\n",
      "Detected chair with confidence 0.888 at location [2052.3, 2656.68, 4029.43, 3019.98]\n",
      "Detected potted plant with confidence 0.905 at location [2855.73, 1523.87, 3190.6, 1842.39]\n"
     ]
    }
   ],
   "source": [
    "url = \"http://images.cocodataset.org/val2017/000000039769.jpg\"\n",
    "url2 = \"https://img-s1.onedio.com/id-558909bed2a15480349e158e/rev-0/w-635/listing/f-jpg-webp/s-7d14de6baa50408719ec71b4ee671a2961a4f81f.webp\"\n",
    "# image = Image.open(requests.get(url2, stream=True).raw)\n",
    "\n",
    "image = Image.open(\"IMG_2776.jpg\")\n",
    "\n",
    "# you can specify the revision tag if you don't want the timm dependency\n",
    "processor = DetrImageProcessor.from_pretrained(\"facebook/detr-resnet-50\", revision=\"no_timm\")\n",
    "model = DetrForObjectDetection.from_pretrained(\"facebook/detr-resnet-50\", revision=\"no_timm\")\n",
    "\n",
    "inputs = processor(images=image, return_tensors=\"pt\")\n",
    "outputs = model(**inputs)\n",
    "\n",
    "# convert outputs (bounding boxes and class logits) to COCO API\n",
    "# let's only keep detections with score > 0.9\n",
    "target_sizes = torch.tensor([image.size[::-1]])\n",
    "results = processor.post_process_object_detection(outputs, target_sizes=target_sizes, threshold=0.75)[0]\n",
    "\n",
    "for score, label, box in zip(results[\"scores\"], results[\"labels\"], results[\"boxes\"]):\n",
    "    box = [round(i, 2) for i in box.tolist()]\n",
    "    print(\n",
    "            f\"Detected {model.config.id2label[label.item()]} with confidence \"\n",
    "            f\"{round(score.item(), 3)} at location {box}\"\n",
    "    )\n"
   ]
  },
  {
   "cell_type": "code",
   "execution_count": 12,
   "metadata": {},
   "outputs": [],
   "source": [
    "draw = ImageDraw.Draw(image)\n",
    "\n",
    "# Define a color mapping dictionary to assign unique colors to each class label\n",
    "color_map = {}\n",
    "\n",
    "# Specify font size\n",
    "font_size = 32\n",
    "font = ImageFont.truetype(\"arial.ttf\", font_size)\n",
    "\n",
    "# Specify line width\n",
    "line_width = 8\n",
    "\n",
    "\n",
    "img_name = \"\"\n",
    "k=0\n",
    "\n",
    "for score, label, box in zip(results[\"scores\"], results[\"labels\"], results[\"boxes\"]):\n",
    "    \n",
    "    box = [round(i, 2) for i in box.tolist()]\n",
    "    class_label = model.config.id2label[label.item()]\n",
    "    confidence = round(score.item(), 3)\n",
    "\n",
    "    # Generate a random color for the class label if it doesn't exist in the color map\n",
    "    if class_label not in color_map:\n",
    "        color_map[class_label] = (random.randint(0, 255), random.randint(0, 255), random.randint(0, 255))\n",
    "\n",
    "    # Draw rectangle with the color corresponding to the class label\n",
    "    draw.rectangle(box, outline=color_map[class_label], width=line_width)\n",
    "\n",
    "    # Add text with label and confidence, using the same color as the rectangle\n",
    "    text = f\"{class_label}: {confidence}\"\n",
    "    \n",
    "    # Create img name\n",
    "    if k < 4 and class_label not in img_name :\n",
    "        img_name += \"_\"+class_label\n",
    "\n",
    "    draw.text((box[0]+12, box[1]+12), text, fill=color_map[class_label], font=font)\n",
    "    k += 1\n",
    "\n",
    "image.show()\n",
    "image.save(f\"img_with{img_name}.png\")"
   ]
  },
  {
   "cell_type": "code",
   "execution_count": null,
   "metadata": {},
   "outputs": [],
   "source": []
  }
 ],
 "metadata": {
  "kernelspec": {
   "display_name": ".venv",
   "language": "python",
   "name": "python3"
  },
  "language_info": {
   "codemirror_mode": {
    "name": "ipython",
    "version": 3
   },
   "file_extension": ".py",
   "mimetype": "text/x-python",
   "name": "python",
   "nbconvert_exporter": "python",
   "pygments_lexer": "ipython3",
   "version": "3.11.5"
  }
 },
 "nbformat": 4,
 "nbformat_minor": 2
}
